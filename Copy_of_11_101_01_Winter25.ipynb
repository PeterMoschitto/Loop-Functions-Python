{
  "nbformat": 4,
  "nbformat_minor": 0,
  "metadata": {
    "colab": {
      "provenance": [],
      "include_colab_link": true
    },
    "kernelspec": {
      "name": "python3",
      "display_name": "Python 3"
    },
    "language_info": {
      "name": "python"
    }
  },
  "cells": [
    {
      "cell_type": "markdown",
      "metadata": {
        "id": "view-in-github",
        "colab_type": "text"
      },
      "source": [
        "<a href=\"https://colab.research.google.com/github/PeterMoschitto/Loop-Functions-Python/blob/main/Copy_of_11_101_01_Winter25.ipynb\" target=\"_parent\"><img src=\"https://colab.research.google.com/assets/colab-badge.svg\" alt=\"Open In Colab\"/></a>"
      ]
    },
    {
      "cell_type": "markdown",
      "source": [
        "#1: Find the total of a list"
      ],
      "metadata": {
        "id": "9TIWGy6akoyB"
      }
    },
    {
      "cell_type": "code",
      "source": [
        "def my_sum(lst):\n",
        "  total = 0\n",
        "  length = len(lst)\n",
        "  for i in range(length):\n",
        "    total += lst(i)\n",
        "  return total\n",
        "\n",
        "\n",
        "  numbers = [1, 2, 3, 4, 5]\n",
        "  print(my_sum(numbers))\n",
        "  print(\"hello\")\n"
      ],
      "metadata": {
        "id": "YDQYwNLoko_w"
      },
      "execution_count": null,
      "outputs": []
    },
    {
      "cell_type": "markdown",
      "source": [
        "#2: Find the Length of a list"
      ],
      "metadata": {
        "id": "6w6ECeXLkirL"
      }
    },
    {
      "cell_type": "code",
      "execution_count": null,
      "metadata": {
        "id": "HwiTAnFZXs71",
        "outputId": "8a981549-8694-426c-f199-b3845c72def0",
        "colab": {
          "base_uri": "https://localhost:8080/"
        }
      },
      "outputs": [
        {
          "output_type": "stream",
          "name": "stdout",
          "text": [
            "5\n"
          ]
        }
      ],
      "source": [
        "def my_len(lst):\n",
        "  length = 0\n",
        "  for n in lst:\n",
        "    length += 1\n",
        "  return length\n",
        "\n",
        "numbers = [1, 2, 3, 4, 5]\n",
        "\n",
        "print(my_len(numbers))"
      ]
    },
    {
      "cell_type": "markdown",
      "source": [
        "#3: Searching for an element in a list"
      ],
      "metadata": {
        "id": "QndnpXu0lFlR"
      }
    },
    {
      "cell_type": "code",
      "source": [
        "def my_index(lst, target):\n",
        "  index = 0\n",
        "  for char in lst:\n",
        "    if char == target:\n",
        "      return index\n",
        "    index += 1\n",
        "  return None\n",
        "\n",
        "\n",
        "numbers = [10, 20, 30, 40, 50]\n",
        "print(my_index(numbers, 20))"
      ],
      "metadata": {
        "id": "l-DQYtsylF8M",
        "outputId": "bb1fc1ab-8c1d-4580-f27b-b38fdf52e0f1",
        "colab": {
          "base_uri": "https://localhost:8080/"
        }
      },
      "execution_count": null,
      "outputs": [
        {
          "output_type": "stream",
          "name": "stdout",
          "text": [
            "1\n"
          ]
        }
      ]
    },
    {
      "cell_type": "markdown",
      "source": [
        "#4: Count the number of occurances of an element in a list"
      ],
      "metadata": {
        "id": "Qw6DDrwNlGDD"
      }
    },
    {
      "cell_type": "code",
      "source": [
        "def my_count(lst, target):\n",
        "  occurances = 0\n",
        "  for i in lst:\n",
        "    if i == target:\n",
        "      occurances += 1\n",
        "  return occurances\n",
        "\n",
        "\n",
        "\n",
        "numbers = [1, 2, 2, 3, 4, 2, 5]\n",
        "print(my_count(numbers, 2))"
      ],
      "metadata": {
        "id": "aLNx1TmMlGJT",
        "outputId": "ca19720e-fa2b-4669-86dc-f97d70792e17",
        "colab": {
          "base_uri": "https://localhost:8080/"
        }
      },
      "execution_count": null,
      "outputs": [
        {
          "output_type": "stream",
          "name": "stdout",
          "text": [
            "3\n"
          ]
        }
      ]
    },
    {
      "cell_type": "markdown",
      "source": [
        "#5: Find the max in a list"
      ],
      "metadata": {
        "id": "GfoGFd3olGQ-"
      }
    },
    {
      "cell_type": "code",
      "source": [
        "from re import I\n",
        "def my_max(lst):\n",
        "  max = lst[0]\n",
        "  for i in lst:\n",
        "    if i > max:\n",
        "      max = i\n",
        "  return max\n",
        "\n",
        "\n",
        "numbers = [3, 1, 7, 2, 5]\n",
        "print(my_max(numbers))"
      ],
      "metadata": {
        "id": "uxwGroB5lGXd",
        "outputId": "a7b7b98d-36d8-4798-c34b-d16935681f42",
        "colab": {
          "base_uri": "https://localhost:8080/"
        }
      },
      "execution_count": null,
      "outputs": [
        {
          "output_type": "stream",
          "name": "stdout",
          "text": [
            "7\n"
          ]
        }
      ]
    },
    {
      "cell_type": "markdown",
      "source": [
        "#6: Determine if a string is all digits 0-9"
      ],
      "metadata": {
        "id": "k_Hy2GT-nVUf"
      }
    },
    {
      "cell_type": "code",
      "source": [
        "def my_isdigit(s):\n",
        "  digit_set = {\"1\", \"2\", \"3\",\"4\",\"5\",\"6\",\"7\",\"8\",\"9\"}\n",
        "\n",
        "  for char in s:\n",
        "    if char not in digit_set:\n",
        "      return False\n",
        "  return True\n",
        "\n",
        "print(my_isdigit(\"12345\"))\n"
      ],
      "metadata": {
        "id": "r995fi9wnVdd",
        "outputId": "3ce54a28-16ee-4cf1-d4cc-b37cfc149fb2",
        "colab": {
          "base_uri": "https://localhost:8080/"
        }
      },
      "execution_count": null,
      "outputs": [
        {
          "output_type": "stream",
          "name": "stdout",
          "text": [
            "True\n"
          ]
        }
      ]
    },
    {
      "cell_type": "markdown",
      "source": [
        "#7: Turn all characters of a string to upper case"
      ],
      "metadata": {
        "id": "6zb3ejH5lGeI"
      }
    },
    {
      "cell_type": "code",
      "source": [
        "def my_upper(s):\n",
        "  result = []\n",
        "  for char in s:\n",
        "    val = ord(char)\n",
        "    if 97 <= val <= 122:\n",
        "      result.append(chr(val - 32))\n",
        "    else:\n",
        "      result.append(char)\n",
        "  return \"\".join(result) #Join list into a string\n",
        "\n",
        "\n",
        "print(my_upper(\"hello\"))"
      ],
      "metadata": {
        "id": "fw24GzvAlGkn",
        "colab": {
          "base_uri": "https://localhost:8080/"
        },
        "outputId": "88cec030-24f0-4523-83c0-3164b1c62129"
      },
      "execution_count": null,
      "outputs": [
        {
          "output_type": "stream",
          "name": "stdout",
          "text": [
            "HELLO\n"
          ]
        }
      ]
    },
    {
      "cell_type": "markdown",
      "source": [
        "Character Counts in Dictionary"
      ],
      "metadata": {
        "id": "KcP_7GRR_iOs"
      }
    },
    {
      "cell_type": "code",
      "source": [
        "char_counts = {\"b\":1, \"a\":3, \"n\":2}\n",
        "\n",
        "for char, count in char_counts.items():\n",
        "  print(f\"{char} appears {count} times\")"
      ],
      "metadata": {
        "id": "mLdcmnvc_EI0",
        "outputId": "2ab532b7-cb0d-43a0-d971-8fd69a7a0586",
        "colab": {
          "base_uri": "https://localhost:8080/"
        }
      },
      "execution_count": null,
      "outputs": [
        {
          "output_type": "stream",
          "name": "stdout",
          "text": [
            "b appears 1 times\n",
            "a appears 3 times\n",
            "n appears 2 times\n"
          ]
        }
      ]
    },
    {
      "cell_type": "markdown",
      "source": [
        "Frequency Dictionary"
      ],
      "metadata": {
        "id": "LefF8aGQ-O56"
      }
    },
    {
      "cell_type": "code",
      "source": [
        "def char_frequency(word):\n",
        "  freq_dict = {}\n",
        "\n",
        "  for char in word:\n",
        "    if char in freq_dict:\n",
        "      freq_dict[char] += 1\n",
        "    else:\n",
        "      freq_dict[char] = 1\n",
        "    return freq_dict\n",
        "\n",
        "print(char_frequency(\"banana\"))"
      ],
      "metadata": {
        "id": "PgURBgG2-Ne2",
        "outputId": "92e9623f-dc4f-4952-af54-93bf0789a6e1",
        "colab": {
          "base_uri": "https://localhost:8080/"
        }
      },
      "execution_count": null,
      "outputs": [
        {
          "output_type": "stream",
          "name": "stdout",
          "text": [
            "{'b': 1}\n"
          ]
        }
      ]
    }
  ]
}